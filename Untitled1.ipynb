{
 "cells": [
  {
   "cell_type": "code",
   "execution_count": 31,
   "metadata": {},
   "outputs": [],
   "source": [
    "import numpy as np\n",
    "import pandas as pd\n",
    "import sklearn\n",
    "\n",
    "df=pd.read_csv(\"sample.csv\")\n",
    "data = df[[\"amount\",\"dma\",\"gender\"]].values #took out industry"
   ]
  },
  {
   "cell_type": "code",
   "execution_count": 32,
   "metadata": {},
   "outputs": [],
   "source": [
    "import kmapper as km\n",
    "from kmapper import jupyter # Creates custom CSS full-size Jupyter screen"
   ]
  },
  {
   "cell_type": "code",
   "execution_count": 34,
   "metadata": {},
   "outputs": [
    {
     "name": "stdout",
     "output_type": "stream",
     "text": [
      "KeplerMapper()\n",
      "..Composing projection pipeline of length 1:\n",
      "\tProjections: [0, 1]\n",
      "\tDistance matrices: False\n",
      "\tScalers: MinMaxScaler(copy=True, feature_range=(0, 1))\n",
      "..Projecting on data shaped (33589, 3)\n",
      "\n",
      "..Projecting data using: [0, 1]\n",
      "\n",
      "..Scaling with: MinMaxScaler(copy=True, feature_range=(0, 1))\n",
      "\n",
      "Mapping on data shaped (33589, 3) using lens shaped (33589, 2)\n",
      "\n",
      "Creating 100 hypercubes.\n",
      "\n",
      "Created 22 edges and 24 nodes in 0:00:01.102199.\n",
      "Wrote visualization to: hello.html\n"
     ]
    },
    {
     "name": "stderr",
     "output_type": "stream",
     "text": [
      "/home/evidaurre/.local/lib/python3.5/site-packages/IPython/core/display.py:689: UserWarning: Consider using IPython.display.IFrame instead\n",
      "  warnings.warn(\"Consider using IPython.display.IFrame instead\")\n"
     ]
    },
    {
     "data": {
      "text/html": [
       "<iframe src=hello.html width=100%% height=800 frameBorder=\"0\"></iframe>"
      ],
      "text/plain": [
       "<IPython.core.display.HTML object>"
      ]
     },
     "metadata": {},
     "output_type": "display_data"
    }
   ],
   "source": [
    "mapper = km.KeplerMapper(verbose=1)\n",
    "projected_data=mapper.fit_transform(data,projection=[0,1])\n",
    "graph = mapper.map(projected_data,data,clusterer=sklearn.cluster.KMeans(2)) #CLUSTERER Kmeans=2 correct # of nodes\n",
    "# Visualize it\n",
    "html = mapper.visualize(graph,color_function=projected_data,path_html=\"hello.html\",\n",
    "                    title=\"make_circles(n_samples=10, noise=0.03, factor=0.3)\")\n",
    "\n",
    "# Inline display\n",
    "# jupyter.display(path_html=\"http://mlwave.github.io/tda/word2vec-gender-bias.html\")\n",
    "jupyter.display(path_html=\"hello.html\")"
   ]
  },
  {
   "cell_type": "code",
   "execution_count": null,
   "metadata": {},
   "outputs": [],
   "source": []
  }
 ],
 "metadata": {
  "kernelspec": {
   "display_name": "Python 3",
   "language": "python",
   "name": "python3"
  },
  "language_info": {
   "codemirror_mode": {
    "name": "ipython",
    "version": 3
   },
   "file_extension": ".py",
   "mimetype": "text/x-python",
   "name": "python",
   "nbconvert_exporter": "python",
   "pygments_lexer": "ipython3",
   "version": "3.5.2"
  }
 },
 "nbformat": 4,
 "nbformat_minor": 2
}
